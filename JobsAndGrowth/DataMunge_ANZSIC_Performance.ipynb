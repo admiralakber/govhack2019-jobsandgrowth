{
 "cells": [
  {
   "cell_type": "raw",
   "metadata": {},
   "source": [
    "# DataMunge: ANZSIC related metrics\n",
    "\n",
    "- ANZSIC --> Operating Profits ($)\n",
    "- ANZSIC --> Labour Expenses ($)\n",
    "- ANZSIC --> Business success rates (%)\n",
    "\n",
    "Data inputs:\n",
    "- Name > KPI's https://www.abs.gov.au/AUSSTATS/abs@.nsf/Lookup/8155.0Main+Features12017-18?OpenDocument"
   ]
  },
  {
   "cell_type": "code",
   "execution_count": 18,
   "metadata": {},
   "outputs": [],
   "source": [
    "import pandas as pd\n",
    "import re\n",
    "import numpy as np\n",
    "datadir = \"data\""
   ]
  },
  {
   "cell_type": "markdown",
   "metadata": {},
   "source": [
    "# Extract the Data from XLS"
   ]
  },
  {
   "cell_type": "code",
   "execution_count": 3,
   "metadata": {},
   "outputs": [],
   "source": [
    "def extract_anzsic_and_year(filename : str, sheet_number : int, header : int):\n",
    "    df = pd.read_excel(\"{}\".format(filename), sheet_name=sheet_number, header=header, skipfooter=3)\n",
    "\n",
    "    # Set up Regex\n",
    "    re_pattern = {\"subdivision\" : \"(\\d\\d) (.+)\", \"year\" : \"(\\d\\d\\d\\d)–(\\d\\d)\"}\n",
    "\n",
    "    # Iterate and restructure\n",
    "    for i,row in df.iterrows():\n",
    "        try:\n",
    "            anzsic_match = re.match(re_pattern[\"subdivision\"], row[0])\n",
    "            if anzsic_match:\n",
    "                anzsic = anzsic_match\n",
    "        except TypeError:\n",
    "            anzsic = None\n",
    "        try:\n",
    "            year = re.match(re_pattern[\"year\"], row[0])\n",
    "        except TypeError:\n",
    "            year = None\n",
    "\n",
    "        df.at[i, \"ANZSIC Subdivision Code\"] = anzsic.group(1) if anzsic else \"NULL\"\n",
    "        df.at[i, \"ANZSIC Subdivision Name\"] = anzsic.group(2) if anzsic else \"NULL\"\n",
    "        df.at[i, \"Year\"] = year.group(1) if year else \"NULL\"\n",
    "\n",
    "    del df[\"Unnamed: 0\"]\n",
    "    df = df[df[\"Year\"] != \"NULL\"]\n",
    "    return df"
   ]
  },
  {
   "cell_type": "code",
   "execution_count": 37,
   "metadata": {},
   "outputs": [],
   "source": [
    "sheets = [{\"sheet_number\" : 1, \"header\" : 4},\\\n",
    "          {\"sheet_number\" : 2, \"header\" : 4},\\\n",
    "          {\"sheet_number\" : 3, \"header\" : 6},\\\n",
    "          {\"sheet_number\" : 4, \"header\" : 6},\\\n",
    "         ]\n",
    "\n",
    "dfs = [extract_anzsic_and_year(\"data/performance_by_anzsic.xls\", **s) for s in sheets]"
   ]
  },
  {
   "cell_type": "code",
   "execution_count": 39,
   "metadata": {
    "scrolled": true
   },
   "outputs": [],
   "source": [
    "# Join what we can\n",
    "df1 = pd.concat(dfs[:-1], axis=1, sort=False)\n",
    "df1 = df1.loc[:, ~df1.columns.duplicated()]\n",
    "# And the leave rest\n",
    "df2 = dfs[-1]\n",
    "\n",
    "# Fix the hidden data\n",
    "for i,row in df2.iterrows():\n",
    "    p_e_l = row[-6:-3].values\n",
    "    if any(map(lambda x: np.isnan(x), p_e_l)):\n",
    "        df2.at[i, \"Broke even\"] = 0\n",
    "        df2.at[i, \"Made a profit\"] = 100 - p_e_l[-1]\n",
    "        "
   ]
  },
  {
   "cell_type": "markdown",
   "metadata": {},
   "source": [
    "# Write to disk"
   ]
  },
  {
   "cell_type": "code",
   "execution_count": 44,
   "metadata": {},
   "outputs": [],
   "source": [
    "# Pickle away\n",
    "df1.to_pickle(\"data/pickles/performance_by_anzsic.pkl\")\n",
    "df2.to_pickle(\"data/pickles/performance_by_anzsic_supplementary.pkl\")"
   ]
  },
  {
   "cell_type": "markdown",
   "metadata": {},
   "source": [
    "# Query Function for external use"
   ]
  },
  {
   "cell_type": "code",
   "execution_count": 276,
   "metadata": {},
   "outputs": [],
   "source": [
    "def anzsic_data(anzsic_subdivision : int, pickledir = \"data/pickles\"):\n",
    "    anzsic_subdivision = \"{:02d}\".format(anzsic_subdivision)\n",
    "    df1 = pd.read_pickle(\"{}/performance_by_anzsic.pkl\".format(pickledir))\n",
    "    df1_slice = df1[df1[\"ANZSIC Subdivision Code\"] == anzsic_subdivision]\n",
    "    \n",
    "    df2 = pd.read_pickle(\"{}/performance_by_anzsic_supplementary.pkl\".format(pickledir))\n",
    "    df2_slice = df2[df2[\"ANZSIC Subdivision Code\"] == anzsic_subdivision]\n",
    "    return df1_slice.set_index(\"Year\"), df2_slice.set_index(\"Year\")\n",
    "\n"
   ]
  }
 ],
 "metadata": {
  "kernelspec": {
   "display_name": "Python [conda env:.conda-govhack2019] *",
   "language": "python",
   "name": "conda-env-.conda-govhack2019-py"
  },
  "language_info": {
   "codemirror_mode": {
    "name": "ipython",
    "version": 3
   },
   "file_extension": ".py",
   "mimetype": "text/x-python",
   "name": "python",
   "nbconvert_exporter": "python",
   "pygments_lexer": "ipython3",
   "version": "3.7.4"
  }
 },
 "nbformat": 4,
 "nbformat_minor": 2
}
