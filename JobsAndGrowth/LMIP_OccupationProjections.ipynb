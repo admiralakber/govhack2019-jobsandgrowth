{
 "cells": [
  {
   "cell_type": "code",
   "execution_count": 1,
   "metadata": {},
   "outputs": [],
   "source": [
    "import pandas as pd\n",
    "import numpy as np"
   ]
  },
  {
   "cell_type": "code",
   "execution_count": 2,
   "metadata": {},
   "outputs": [],
   "source": [
    "file_path = './data/OccupationProjections.xls'"
   ]
  },
  {
   "cell_type": "code",
   "execution_count": 65,
   "metadata": {},
   "outputs": [],
   "source": [
    "df = pd.read_excel(file_path, skiprows=2)\n",
    "df.columns=['OccupationLevel',\n",
    "            'SkillLevel',\n",
    "            'OccupationCode',\n",
    "            'Occupation',\n",
    "            'EmploymentLevel_May2018',\n",
    "            'EmploymentLevel_May2023',\n",
    "            'EmploymenGrowth_2018_to_2023',\n",
    "            'EmploymenGrowth_2018_to_2023_percentage']\n",
    "\n",
    "df.drop(df.tail(3).index,inplace=True) # Last few rows are not useful"
   ]
  },
  {
   "cell_type": "code",
   "execution_count": 60,
   "metadata": {},
   "outputs": [
    {
     "data": {
      "text/html": [
       "<div>\n",
       "<style scoped>\n",
       "    .dataframe tbody tr th:only-of-type {\n",
       "        vertical-align: middle;\n",
       "    }\n",
       "\n",
       "    .dataframe tbody tr th {\n",
       "        vertical-align: top;\n",
       "    }\n",
       "\n",
       "    .dataframe thead th {\n",
       "        text-align: right;\n",
       "    }\n",
       "</style>\n",
       "<table border=\"1\" class=\"dataframe\">\n",
       "  <thead>\n",
       "    <tr style=\"text-align: right;\">\n",
       "      <th></th>\n",
       "      <th>OccupationLevel</th>\n",
       "      <th>SkillLevel</th>\n",
       "      <th>OccupationCode</th>\n",
       "      <th>Occupation</th>\n",
       "      <th>EmploymentLevel_May2018</th>\n",
       "      <th>EmploymentLevel_May2023</th>\n",
       "      <th>EmploymenGrowth_2018_to_2023</th>\n",
       "      <th>EmploymenGrowth_2018_to_2023_percentage</th>\n",
       "    </tr>\n",
       "  </thead>\n",
       "  <tbody>\n",
       "    <tr>\n",
       "      <th>0</th>\n",
       "      <td>1</td>\n",
       "      <td></td>\n",
       "      <td>1</td>\n",
       "      <td>MANAGERS</td>\n",
       "      <td>1561.630105</td>\n",
       "      <td>1671.502836</td>\n",
       "      <td>109.872731</td>\n",
       "      <td>7.035772</td>\n",
       "    </tr>\n",
       "    <tr>\n",
       "      <th>1</th>\n",
       "      <td>2</td>\n",
       "      <td></td>\n",
       "      <td>11</td>\n",
       "      <td>Chief Executives, General Managers and Legisla...</td>\n",
       "      <td>109.718797</td>\n",
       "      <td>114.566984</td>\n",
       "      <td>4.848187</td>\n",
       "      <td>4.418739</td>\n",
       "    </tr>\n",
       "    <tr>\n",
       "      <th>2</th>\n",
       "      <td>3</td>\n",
       "      <td></td>\n",
       "      <td>111</td>\n",
       "      <td>Chief Executives, General Managers and Legisla...</td>\n",
       "      <td>109.718797</td>\n",
       "      <td>114.566984</td>\n",
       "      <td>4.848187</td>\n",
       "      <td>4.418739</td>\n",
       "    </tr>\n",
       "    <tr>\n",
       "      <th>3</th>\n",
       "      <td>4</td>\n",
       "      <td>1</td>\n",
       "      <td>1111</td>\n",
       "      <td>Chief Executives and Managing Directors</td>\n",
       "      <td>62.824880</td>\n",
       "      <td>68.618668</td>\n",
       "      <td>5.793789</td>\n",
       "      <td>9.222124</td>\n",
       "    </tr>\n",
       "    <tr>\n",
       "      <th>4</th>\n",
       "      <td>4</td>\n",
       "      <td>1</td>\n",
       "      <td>1112</td>\n",
       "      <td>General Managers</td>\n",
       "      <td>42.125263</td>\n",
       "      <td>41.095188</td>\n",
       "      <td>-1.030075</td>\n",
       "      <td>-2.445267</td>\n",
       "    </tr>\n",
       "  </tbody>\n",
       "</table>\n",
       "</div>"
      ],
      "text/plain": [
       "  OccupationLevel SkillLevel OccupationCode  \\\n",
       "0               1                         1   \n",
       "1               2                        11   \n",
       "2               3                       111   \n",
       "3               4          1           1111   \n",
       "4               4          1           1112   \n",
       "\n",
       "                                          Occupation  EmploymentLevel_May2018  \\\n",
       "0                                           MANAGERS              1561.630105   \n",
       "1  Chief Executives, General Managers and Legisla...               109.718797   \n",
       "2  Chief Executives, General Managers and Legisla...               109.718797   \n",
       "3            Chief Executives and Managing Directors                62.824880   \n",
       "4                                   General Managers                42.125263   \n",
       "\n",
       "   EmploymentLevel_May2023  EmploymenGrowth_2018_to_2023  \\\n",
       "0              1671.502836                    109.872731   \n",
       "1               114.566984                      4.848187   \n",
       "2               114.566984                      4.848187   \n",
       "3                68.618668                      5.793789   \n",
       "4                41.095188                     -1.030075   \n",
       "\n",
       "   EmploymenGrowth_2018_to_2023_percentage  \n",
       "0                                 7.035772  \n",
       "1                                 4.418739  \n",
       "2                                 4.418739  \n",
       "3                                 9.222124  \n",
       "4                                -2.445267  "
      ]
     },
     "execution_count": 60,
     "metadata": {},
     "output_type": "execute_result"
    }
   ],
   "source": [
    "df.head()"
   ]
  },
  {
   "cell_type": "markdown",
   "metadata": {},
   "source": [
    "# Things to make\n",
    "\n",
    "### A thing that gives you every child of a given occupation code\n",
    "\n",
    "### A thing that gives you the skill level of a given 4th level occupation code"
   ]
  },
  {
   "cell_type": "markdown",
   "metadata": {},
   "source": [
    "# Occupation code to skill level"
   ]
  },
  {
   "cell_type": "code",
   "execution_count": 61,
   "metadata": {},
   "outputs": [],
   "source": [
    "# Note that some entries have multiple values. These are preserved as strings, e.g. `1,2,3,4,5`\n",
    "anzsco_to_skill_level = df[df['OccupationLevel']==4][['SkillLevel','OccupationCode']].set_index('OccupationCode')['SkillLevel'].to_dict()"
   ]
  },
  {
   "cell_type": "markdown",
   "metadata": {},
   "source": [
    "# Map between occupation codes"
   ]
  },
  {
   "cell_type": "code",
   "execution_count": 62,
   "metadata": {},
   "outputs": [],
   "source": [
    "occupations_level0 = {}\n",
    "current_level1 = None\n",
    "current_level2 = None\n",
    "current_level3 = None\n",
    "current_level4 = None\n",
    "\n",
    "for index, row in df.iterrows():\n",
    "    if len(str(row['OccupationCode']))==1:\n",
    "        current_level1 = row['OccupationCode']\n",
    "        \n",
    "        # New Level1\n",
    "        occupations_level0[current_level1] = {'Name': row['Occupation'],\n",
    "                                              'Children':{}}\n",
    "        continue\n",
    "    if len(str(row['OccupationCode']))==2:\n",
    "        current_level2 = row['OccupationCode']\n",
    "        \n",
    "        # New Level2\n",
    "        occupations_level0[current_level1]['Children'][current_level2] = {'Name': row['Occupation'],\n",
    "                                                                          'Children': {}}\n",
    "        continue\n",
    "    if len(str(row['OccupationCode']))==3:\n",
    "        current_level3 = row['OccupationCode']\n",
    "        \n",
    "        \n",
    "        # New Level3\n",
    "        occupations_level0[current_level1]['Children'][current_level2]['Children'][current_level3] = {'Name': row['Occupation'],\n",
    "                                                                                                      'Children': {}}\n",
    "        continue\n",
    "    if len(str(row['OccupationCode']))==4:\n",
    "        # New Level4\n",
    "        occupations_level0[current_level1]['Children'][current_level2]['Children'][current_level3]['Children'][row['OccupationCode']] = row['Occupation']\n",
    "        \n",
    "        continue\n",
    "    \n"
   ]
  },
  {
   "cell_type": "code",
   "execution_count": 67,
   "metadata": {},
   "outputs": [
    {
     "data": {
      "text/plain": [
       "{'Name': 'Carers and Aides',\n",
       " 'Children': {421: {'Name': 'Child Carers',\n",
       "   'Children': {4211: 'Child Carers'}},\n",
       "  422: {'Name': 'Education Aides', 'Children': {4221: 'Education Aides'}},\n",
       "  423: {'Name': 'Personal Carers and Assistants',\n",
       "   'Children': {4231: 'Aged and Disabled Carers',\n",
       "    4232: 'Dental Assistants',\n",
       "    4233: 'Nursing Support and Personal Care Workers',\n",
       "    4234: 'Special Care Workers',\n",
       "    4230: 'Personal Carers and Assistants nfd'}},\n",
       "  420: {'Name': 'Carers and Aides nfd',\n",
       "   'Children': {4200: 'Carers and Aides nfd'}}}}"
      ]
     },
     "execution_count": 67,
     "metadata": {},
     "output_type": "execute_result"
    }
   ],
   "source": [
    "occupations_level0[4]['Children'][42]"
   ]
  }
 ],
 "metadata": {
  "kernelspec": {
   "display_name": "TensorFlow 1.13",
   "language": "python",
   "name": "python3"
  },
  "language_info": {
   "codemirror_mode": {
    "name": "ipython",
    "version": 3
   },
   "file_extension": ".py",
   "mimetype": "text/x-python",
   "name": "python",
   "nbconvert_exporter": "python",
   "pygments_lexer": "ipython3",
   "version": "3.6.8"
  }
 },
 "nbformat": 4,
 "nbformat_minor": 2
}
