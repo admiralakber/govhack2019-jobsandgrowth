{
 "cells": [
  {
   "cell_type": "code",
   "execution_count": 60,
   "metadata": {},
   "outputs": [],
   "source": [
    "import pandas as pd\n",
    "import numpy as np\n",
    "import pickle"
   ]
  },
  {
   "cell_type": "code",
   "execution_count": 5,
   "metadata": {},
   "outputs": [],
   "source": [
    "anzsic_path = './data/anzsic_codes_and_titles.xls'"
   ]
  },
  {
   "cell_type": "code",
   "execution_count": 12,
   "metadata": {},
   "outputs": [],
   "source": [
    "df = pd.read_excel(anzsic_path, sheet_name=4, skiprows=5)"
   ]
  },
  {
   "cell_type": "code",
   "execution_count": 20,
   "metadata": {},
   "outputs": [],
   "source": [
    "new_columns = ['None',\n",
    "               'DivisionCode',\n",
    "               'SubdivisionCode',\n",
    "               'GroupCode',\n",
    "               'ClassCode',\n",
    "               'ClassName'\n",
    "              ]"
   ]
  },
  {
   "cell_type": "code",
   "execution_count": 23,
   "metadata": {},
   "outputs": [
    {
     "data": {
      "text/html": [
       "<div>\n",
       "<style scoped>\n",
       "    .dataframe tbody tr th:only-of-type {\n",
       "        vertical-align: middle;\n",
       "    }\n",
       "\n",
       "    .dataframe tbody tr th {\n",
       "        vertical-align: top;\n",
       "    }\n",
       "\n",
       "    .dataframe thead th {\n",
       "        text-align: right;\n",
       "    }\n",
       "</style>\n",
       "<table border=\"1\" class=\"dataframe\">\n",
       "  <thead>\n",
       "    <tr style=\"text-align: right;\">\n",
       "      <th></th>\n",
       "      <th>None</th>\n",
       "      <th>DivisionCode</th>\n",
       "      <th>SubdivisionCode</th>\n",
       "      <th>GroupCode</th>\n",
       "      <th>ClassCode</th>\n",
       "      <th>ClassName</th>\n",
       "    </tr>\n",
       "  </thead>\n",
       "  <tbody>\n",
       "    <tr>\n",
       "      <td>0</td>\n",
       "      <td>NaN</td>\n",
       "      <td>A</td>\n",
       "      <td>Agriculture, Forestry and Fishing</td>\n",
       "      <td>NaN</td>\n",
       "      <td>NaN</td>\n",
       "      <td>NaN</td>\n",
       "    </tr>\n",
       "    <tr>\n",
       "      <td>1</td>\n",
       "      <td>NaN</td>\n",
       "      <td>NaN</td>\n",
       "      <td>01</td>\n",
       "      <td>Agriculture</td>\n",
       "      <td>NaN</td>\n",
       "      <td>NaN</td>\n",
       "    </tr>\n",
       "    <tr>\n",
       "      <td>2</td>\n",
       "      <td>NaN</td>\n",
       "      <td>NaN</td>\n",
       "      <td>NaN</td>\n",
       "      <td>011</td>\n",
       "      <td>Nursery and Floriculture Production</td>\n",
       "      <td>NaN</td>\n",
       "    </tr>\n",
       "    <tr>\n",
       "      <td>3</td>\n",
       "      <td>NaN</td>\n",
       "      <td>NaN</td>\n",
       "      <td>NaN</td>\n",
       "      <td>NaN</td>\n",
       "      <td>0111</td>\n",
       "      <td>Nursery Production (Under Cover)</td>\n",
       "    </tr>\n",
       "    <tr>\n",
       "      <td>4</td>\n",
       "      <td>NaN</td>\n",
       "      <td>NaN</td>\n",
       "      <td>NaN</td>\n",
       "      <td>NaN</td>\n",
       "      <td>0112</td>\n",
       "      <td>Nursery Production (Outdoors)</td>\n",
       "    </tr>\n",
       "  </tbody>\n",
       "</table>\n",
       "</div>"
      ],
      "text/plain": [
       "  None DivisionCode                    SubdivisionCode    GroupCode  \\\n",
       "0  NaN            A  Agriculture, Forestry and Fishing          NaN   \n",
       "1  NaN          NaN                                 01  Agriculture   \n",
       "2  NaN          NaN                                NaN          011   \n",
       "3  NaN          NaN                                NaN          NaN   \n",
       "4  NaN          NaN                                NaN          NaN   \n",
       "\n",
       "                             ClassCode                         ClassName  \n",
       "0                                  NaN                               NaN  \n",
       "1                                  NaN                               NaN  \n",
       "2  Nursery and Floriculture Production                               NaN  \n",
       "3                                 0111  Nursery Production (Under Cover)  \n",
       "4                                 0112     Nursery Production (Outdoors)  "
      ]
     },
     "execution_count": 23,
     "metadata": {},
     "output_type": "execute_result"
    }
   ],
   "source": [
    "df.columns=  new_columns\n",
    "df.head()"
   ]
  },
  {
   "cell_type": "markdown",
   "metadata": {},
   "source": [
    "This is a disgusting way of doing it, but let's iterate over rows"
   ]
  },
  {
   "cell_type": "code",
   "execution_count": 42,
   "metadata": {},
   "outputs": [],
   "source": [
    "class_list = []\n",
    "\n",
    "current_div_code = None\n",
    "current_div_name = None\n",
    "current_subdiv_code = None\n",
    "current_subdiv_name = None\n",
    "current_group_code = None\n",
    "current_group_name = None\n",
    "\n",
    "for index, row in df.iterrows():\n",
    "    if not pd.isna(row['DivisionCode']):\n",
    "        # New division\n",
    "        current_div_code = row['DivisionCode']\n",
    "        current_div_name = row['SubdivisionCode']\n",
    "        continue\n",
    "    if not pd.isna(row['SubdivisionCode']) and len(row['SubdivisionCode'])==2:\n",
    "        # New subdivision\n",
    "        current_subdiv_code = row['SubdivisionCode']\n",
    "        current_subdiv_name = row['GroupCode']\n",
    "        continue\n",
    "    if not pd.isna(row['GroupCode']) and len(row['GroupCode'])==3:\n",
    "        # New group\n",
    "        current_group_code = row['GroupCode']\n",
    "        current_group_name = row['ClassCode']\n",
    "        continue\n",
    "    \n",
    "    if not pd.isna(row['ClassCode']) and not pd.isna(row['ClassName']):\n",
    "        class_list.append([current_div_code,\n",
    "                          current_div_name,\n",
    "                          current_subdiv_code,\n",
    "                          current_subdiv_name,\n",
    "                          current_group_code,\n",
    "                          current_group_name,\n",
    "                          row['ClassCode'],\n",
    "                          row['ClassName']])\n",
    "    \n",
    "        \n",
    "    "
   ]
  },
  {
   "cell_type": "code",
   "execution_count": 69,
   "metadata": {},
   "outputs": [
    {
     "data": {
      "text/html": [
       "<div>\n",
       "<style scoped>\n",
       "    .dataframe tbody tr th:only-of-type {\n",
       "        vertical-align: middle;\n",
       "    }\n",
       "\n",
       "    .dataframe tbody tr th {\n",
       "        vertical-align: top;\n",
       "    }\n",
       "\n",
       "    .dataframe thead th {\n",
       "        text-align: right;\n",
       "    }\n",
       "</style>\n",
       "<table border=\"1\" class=\"dataframe\">\n",
       "  <thead>\n",
       "    <tr style=\"text-align: right;\">\n",
       "      <th></th>\n",
       "      <th>DivisionCode</th>\n",
       "      <th>DivisionName</th>\n",
       "      <th>SubDivisionCode</th>\n",
       "      <th>SubDivisionName</th>\n",
       "      <th>GroupCode</th>\n",
       "      <th>GroupName</th>\n",
       "      <th>ClassCode</th>\n",
       "      <th>ClassName</th>\n",
       "    </tr>\n",
       "  </thead>\n",
       "  <tbody>\n",
       "    <tr>\n",
       "      <td>0</td>\n",
       "      <td>A</td>\n",
       "      <td>Agriculture, Forestry and Fishing</td>\n",
       "      <td>01</td>\n",
       "      <td>Agriculture</td>\n",
       "      <td>011</td>\n",
       "      <td>Nursery and Floriculture Production</td>\n",
       "      <td>0111</td>\n",
       "      <td>Nursery Production (Under Cover)</td>\n",
       "    </tr>\n",
       "    <tr>\n",
       "      <td>1</td>\n",
       "      <td>A</td>\n",
       "      <td>Agriculture, Forestry and Fishing</td>\n",
       "      <td>01</td>\n",
       "      <td>Agriculture</td>\n",
       "      <td>011</td>\n",
       "      <td>Nursery and Floriculture Production</td>\n",
       "      <td>0112</td>\n",
       "      <td>Nursery Production (Outdoors)</td>\n",
       "    </tr>\n",
       "    <tr>\n",
       "      <td>2</td>\n",
       "      <td>A</td>\n",
       "      <td>Agriculture, Forestry and Fishing</td>\n",
       "      <td>01</td>\n",
       "      <td>Agriculture</td>\n",
       "      <td>011</td>\n",
       "      <td>Nursery and Floriculture Production</td>\n",
       "      <td>0113</td>\n",
       "      <td>Turf Growing</td>\n",
       "    </tr>\n",
       "    <tr>\n",
       "      <td>3</td>\n",
       "      <td>A</td>\n",
       "      <td>Agriculture, Forestry and Fishing</td>\n",
       "      <td>01</td>\n",
       "      <td>Agriculture</td>\n",
       "      <td>011</td>\n",
       "      <td>Nursery and Floriculture Production</td>\n",
       "      <td>0114</td>\n",
       "      <td>Floriculture Production (Under Cover)</td>\n",
       "    </tr>\n",
       "    <tr>\n",
       "      <td>4</td>\n",
       "      <td>A</td>\n",
       "      <td>Agriculture, Forestry and Fishing</td>\n",
       "      <td>01</td>\n",
       "      <td>Agriculture</td>\n",
       "      <td>011</td>\n",
       "      <td>Nursery and Floriculture Production</td>\n",
       "      <td>0115</td>\n",
       "      <td>Floriculture Production (Outdoors)</td>\n",
       "    </tr>\n",
       "  </tbody>\n",
       "</table>\n",
       "</div>"
      ],
      "text/plain": [
       "  DivisionCode                       DivisionName SubDivisionCode  \\\n",
       "0            A  Agriculture, Forestry and Fishing              01   \n",
       "1            A  Agriculture, Forestry and Fishing              01   \n",
       "2            A  Agriculture, Forestry and Fishing              01   \n",
       "3            A  Agriculture, Forestry and Fishing              01   \n",
       "4            A  Agriculture, Forestry and Fishing              01   \n",
       "\n",
       "  SubDivisionName GroupCode                            GroupName ClassCode  \\\n",
       "0     Agriculture       011  Nursery and Floriculture Production      0111   \n",
       "1     Agriculture       011  Nursery and Floriculture Production      0112   \n",
       "2     Agriculture       011  Nursery and Floriculture Production      0113   \n",
       "3     Agriculture       011  Nursery and Floriculture Production      0114   \n",
       "4     Agriculture       011  Nursery and Floriculture Production      0115   \n",
       "\n",
       "                               ClassName  \n",
       "0       Nursery Production (Under Cover)  \n",
       "1          Nursery Production (Outdoors)  \n",
       "2                           Turf Growing  \n",
       "3  Floriculture Production (Under Cover)  \n",
       "4     Floriculture Production (Outdoors)  "
      ]
     },
     "execution_count": 69,
     "metadata": {},
     "output_type": "execute_result"
    }
   ],
   "source": [
    "# This dataframe contains a different class for each row\n",
    "# Columns describe div,subdiv,group names and codes\n",
    "column_names = columns=['DivisionCode',\n",
    "                             'DivisionName',\n",
    "                             'SubDivisionCode',\n",
    "                             'SubDivisionName',\n",
    "                             'GroupCode',\n",
    "                             'GroupName',\n",
    "                             'ClassCode',\n",
    "                             'ClassName']\n",
    "df_anzsic = pd.DataFrame(data=class_list,\n",
    "                     columns=column_names)\n",
    "df_anzsic.to_csv('anzsic_df.csv')\n",
    "df_anzsic.head()\n"
   ]
  },
  {
   "cell_type": "code",
   "execution_count": 70,
   "metadata": {},
   "outputs": [
    {
     "data": {
      "text/plain": [
       "{'DivisionCode': 'C',\n",
       " 'DivisionName': 'Manufacturing',\n",
       " 'SubDivisionCode': '13',\n",
       " 'SubDivisionName': 'Textile, Leather, Clothing and Footwear Manufacturing',\n",
       " 'GroupCode': '133',\n",
       " 'GroupName': 'Textile Product Manufacturing',\n",
       " 'ClassCode': '1334',\n",
       " 'ClassName': 'Textile Finishing and Other Textile Product Manufacturing'}"
      ]
     },
     "execution_count": 70,
     "metadata": {},
     "output_type": "execute_result"
    }
   ],
   "source": [
    "# This dict maps from a 4-digit ANZSIC code (as a string) to a dict of the div,subdiv,group names and codes\n",
    "dict_anzsic = { x[6]: {column_names[i]:y for i,y in enumerate(x)} for x in class_list}\n",
    "\n",
    "with open('anzsic_dict.pkl','wb') as f:\n",
    "    pickle.dump(dict_anzsic, f)\n",
    "\n",
    "dict_anzsic['1334']"
   ]
  },
  {
   "cell_type": "code",
   "execution_count": 75,
   "metadata": {},
   "outputs": [
    {
     "data": {
      "text/plain": [
       "{'DivisionCode': 'C',\n",
       " 'DivisionName': 'Manufacturing',\n",
       " 'SubDivisionCode': '12',\n",
       " 'SubDivisionName': 'Beverage and Tobacco Product Manufacturing',\n",
       " 'GroupCode': '121',\n",
       " 'GroupName': 'Beverage Manufacturing',\n",
       " 'ClassCode': '1214',\n",
       " 'ClassName': 'Wine and Other Alcoholic Beverage Manufacturing'}"
      ]
     },
     "execution_count": 75,
     "metadata": {},
     "output_type": "execute_result"
    }
   ],
   "source": [
    "dict_anzsic['1214']"
   ]
  },
  {
   "cell_type": "code",
   "execution_count": null,
   "metadata": {},
   "outputs": [],
   "source": []
  }
 ],
 "metadata": {
  "kernelspec": {
   "display_name": "Python [conda env:denet]",
   "language": "python",
   "name": "conda-env-denet-py"
  },
  "language_info": {
   "codemirror_mode": {
    "name": "ipython",
    "version": 3
   },
   "file_extension": ".py",
   "mimetype": "text/x-python",
   "name": "python",
   "nbconvert_exporter": "python",
   "pygments_lexer": "ipython3",
   "version": "3.6.8"
  }
 },
 "nbformat": 4,
 "nbformat_minor": 2
}
